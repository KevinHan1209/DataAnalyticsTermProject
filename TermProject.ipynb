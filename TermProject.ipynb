{
 "cells": [
  {
   "cell_type": "markdown",
   "metadata": {},
   "source": [
    "# Term Project\n",
    "\n",
    "## Kevin Han, kh38823\n",
    "\n",
    "## Using the adult dataset: https://archive.ics.uci.edu/dataset/2/adult. Predicts whether income exceeds $50k per year based on variety of factors, such as education, age, workclass, race, sex, etc. \n",
    "\n",
    "My learning model is binary classification. I will be implementing a neural network. My current expectation of the results is that it would provide a pretty good prediction of the target variable that is whether or not any given adult exceeds $50k per year in income. However, since a neural network is a black box with many layers, it is practically impossible to evaluate which parameters/features are the best predictors of the target variables. This is only of the largest disadvantages to neural networks in my opinion. It is a powerful predictor but a very poor interpreter of the data."
   ]
  },
  {
   "cell_type": "code",
   "execution_count": 129,
   "metadata": {},
   "outputs": [],
   "source": [
    "import torch\n",
    "import torch.nn as nn\n",
    "import torch.optim as optim\n",
    "from sklearn.preprocessing import StandardScaler, LabelEncoder\n",
    "import numpy as np\n",
    "import pandas as pd\n",
    "import matplotlib.pyplot as plt"
   ]
  },
  {
   "cell_type": "code",
   "execution_count": 130,
   "metadata": {},
   "outputs": [
    {
     "name": "stdout",
     "output_type": "stream",
     "text": [
      "Index(['age', 'workclass', 'fnlwgt', 'education', 'education-num',\n",
      "       'marital-status', 'occupation', 'relationship', 'race', 'sex',\n",
      "       'capital-gain', 'capital-loss', 'hours-per-week', 'native-country'],\n",
      "      dtype='object')\n"
     ]
    }
   ],
   "source": [
    "from ucimlrepo import fetch_ucirepo\n",
    "  \n",
    "# fetch dataset \n",
    "adult = fetch_ucirepo(id=2) \n",
    "  \n",
    "# data (as pandas dataframes) \n",
    "X = pd.DataFrame(adult.data.features)\n",
    "y = pd.DataFrame(adult.data.targets)\n",
    "\n",
    "# Clean up dataset and hot encode. Not sure why some values have a period and others do not, but I'm going to treat them as the same.\n",
    "# Hot encode categorical target variable\n",
    "y['income'] = y['income'].map({'<=50K': 0, '<=50K.': 0, '>50K': 1, '>50K.': 1})\n",
    "print(X.columns)\n",
    "\n"
   ]
  },
  {
   "cell_type": "code",
   "execution_count": 131,
   "metadata": {},
   "outputs": [
    {
     "name": "stdout",
     "output_type": "stream",
     "text": [
      "['age', 'workclass', 'fnlwgt', 'education', 'education-num', 'marital-status', 'occupation', 'relationship', 'race', 'sex', 'capital-gain', 'capital-loss', 'hours-per-week', 'native-country']\n",
      "Mapping for 'workclass': {'?': 0, 'Federal-gov': 1, 'Local-gov': 2, 'Never-worked': 3, 'Private': 4, 'Self-emp-inc': 5, 'Self-emp-not-inc': 6, 'State-gov': 7, 'Without-pay': 8, nan: 9}\n",
      "Mapping for 'education': {'10th': 0, '11th': 1, '12th': 2, '1st-4th': 3, '5th-6th': 4, '7th-8th': 5, '9th': 6, 'Assoc-acdm': 7, 'Assoc-voc': 8, 'Bachelors': 9, 'Doctorate': 10, 'HS-grad': 11, 'Masters': 12, 'Preschool': 13, 'Prof-school': 14, 'Some-college': 15}\n",
      "Mapping for 'marital-status': {'Divorced': 0, 'Married-AF-spouse': 1, 'Married-civ-spouse': 2, 'Married-spouse-absent': 3, 'Never-married': 4, 'Separated': 5, 'Widowed': 6}\n",
      "Mapping for 'occupation': {'?': 0, 'Adm-clerical': 1, 'Armed-Forces': 2, 'Craft-repair': 3, 'Exec-managerial': 4, 'Farming-fishing': 5, 'Handlers-cleaners': 6, 'Machine-op-inspct': 7, 'Other-service': 8, 'Priv-house-serv': 9, 'Prof-specialty': 10, 'Protective-serv': 11, 'Sales': 12, 'Tech-support': 13, 'Transport-moving': 14, nan: 15}\n",
      "Mapping for 'relationship': {'Husband': 0, 'Not-in-family': 1, 'Other-relative': 2, 'Own-child': 3, 'Unmarried': 4, 'Wife': 5}\n",
      "Mapping for 'race': {'Amer-Indian-Eskimo': 0, 'Asian-Pac-Islander': 1, 'Black': 2, 'Other': 3, 'White': 4}\n",
      "Mapping for 'sex': {'Female': 0, 'Male': 1}\n",
      "Mapping for 'native-country': {'?': 0, 'Cambodia': 1, 'Canada': 2, 'China': 3, 'Columbia': 4, 'Cuba': 5, 'Dominican-Republic': 6, 'Ecuador': 7, 'El-Salvador': 8, 'England': 9, 'France': 10, 'Germany': 11, 'Greece': 12, 'Guatemala': 13, 'Haiti': 14, 'Holand-Netherlands': 15, 'Honduras': 16, 'Hong': 17, 'Hungary': 18, 'India': 19, 'Iran': 20, 'Ireland': 21, 'Italy': 22, 'Jamaica': 23, 'Japan': 24, 'Laos': 25, 'Mexico': 26, 'Nicaragua': 27, 'Outlying-US(Guam-USVI-etc)': 28, 'Peru': 29, 'Philippines': 30, 'Poland': 31, 'Portugal': 32, 'Puerto-Rico': 33, 'Scotland': 34, 'South': 35, 'Taiwan': 36, 'Thailand': 37, 'Trinadad&Tobago': 38, 'United-States': 39, 'Vietnam': 40, 'Yugoslavia': 41, nan: 42}\n"
     ]
    }
   ],
   "source": [
    "# Look at categorical variables in X. Use LabelEncoder. \n",
    "\n",
    "# Look at which variables would be categorical in X\n",
    "print(X.columns.tolist())\n",
    "\n",
    "# Define the categorical variables\n",
    "categorical_var = ['workclass', 'education', 'marital-status', 'occupation', 'relationship', 'race', 'sex', 'native-country']\n",
    "\n",
    "# Initialize LabelEncoder\n",
    "label_encoder = LabelEncoder()\n",
    "\n",
    "# Define a dictionary to store the mapping of the encoding for future reference\n",
    "encoding_mapping = {}\n",
    "\n",
    "# Loop through each categorical variable\n",
    "for var in categorical_var:\n",
    "    # Fit and transform the variable, and store the encoded values in X_encoded\n",
    "    X[var] = label_encoder.fit_transform(X[var])\n",
    "    \n",
    "    # Store the mapping information in the dictionary\n",
    "    encoding_mapping[var] = dict(zip(label_encoder.classes_, label_encoder.transform(label_encoder.classes_)))\n",
    "\n",
    "# Print the mapping information for each variable\n",
    "for var, mapping in encoding_mapping.items():\n",
    "    print(f\"Mapping for '{var}': {mapping}\")"
   ]
  },
  {
   "cell_type": "code",
   "execution_count": 132,
   "metadata": {},
   "outputs": [],
   "source": [
    "# Concatenate X and y for easy stratified sampling\n",
    "data_df = pd.DataFrame(X, columns=adult.data.feature_names)\n",
    "data_df['income'] = y\n",
    "\n",
    "# Drop question marks\n",
    "data_df = data_df[(data_df['workclass'] != 0) & (data_df['occupation'] != 0)]"
   ]
  },
  {
   "cell_type": "code",
   "execution_count": 133,
   "metadata": {},
   "outputs": [
    {
     "name": "stdout",
     "output_type": "stream",
     "text": [
      "0    35503\n",
      "1    11496\n",
      "Name: income, dtype: int64\n"
     ]
    }
   ],
   "source": [
    "print(data_df['income'].value_counts())"
   ]
  },
  {
   "cell_type": "code",
   "execution_count": 134,
   "metadata": {},
   "outputs": [],
   "source": [
    "# To prevent skewing the dataset, I want equal samples of both <=50K and >50K incomes in both my training and testing datasets\n",
    "\n",
    "# Split the dataset based on 'income' column\n",
    "income_0_df = data_df[data_df['income'] == 0]\n",
    "income_1_df = data_df[data_df['income'] == 1]\n",
    "\n",
    "# Randomly sample 1600 instances from each income group for training data\n",
    "sub50k_training = income_0_df.sample(n=1600, random_state=123)\n",
    "over50k_training = income_1_df.sample(n=1600, random_state=123)\n",
    "\n",
    "# Subtract the already sampled instances from main dataframe\n",
    "remaining_data_df = data_df.drop(index=sub50k_training.index)\n",
    "remaining_data_df = remaining_data_df.drop(index=over50k_training.index)\n",
    "remaining_income_0 = remaining_data_df[remaining_data_df['income'] == 0]\n",
    "remaining_income_1 = remaining_data_df[remaining_data_df['income'] == 1]\n",
    "\n",
    "# Randomly sample 400 instances for testing data\n",
    "sub50k_testing = remaining_income_0.sample(n=400, random_state=123)\n",
    "over50k_testing = remaining_income_1.sample(n=400, random_state=123)\n",
    "\n",
    "# Define the training and testing datasets\n",
    "combined_training_df = pd.concat([sub50k_training, over50k_training], ignore_index=True)\n",
    "X_train = combined_training_df.drop('income', axis=1)\n",
    "y_train = combined_training_df['income']\n",
    "\n",
    "combined_testing_df = pd.concat([sub50k_testing, over50k_testing], ignore_index=True)\n",
    "X_test = combined_testing_df.drop('income', axis=1)\n",
    "y_test = combined_testing_df['income']"
   ]
  },
  {
   "cell_type": "code",
   "execution_count": 135,
   "metadata": {},
   "outputs": [
    {
     "name": "stdout",
     "output_type": "stream",
     "text": [
      "0    1600\n",
      "1    1600\n",
      "Name: income, dtype: int64\n",
      "0    400\n",
      "1    400\n",
      "Name: income, dtype: int64\n"
     ]
    }
   ],
   "source": [
    "print(y_train.value_counts())\n",
    "print(y_test.value_counts())"
   ]
  },
  {
   "cell_type": "code",
   "execution_count": 136,
   "metadata": {},
   "outputs": [],
   "source": [
    "# Now that we have sampled well and defined the training and testing data, let's preprocess our data for the neural network\n",
    "# Convert to PyTorch tensors\n",
    "X_train = torch.tensor(X_train.values, dtype=torch.float32)\n",
    "y_train = torch.tensor(y_train.values, dtype=torch.float32).reshape(-1, 1)\n",
    "X_test = torch.tensor(X_test.values, dtype=torch.float32)\n",
    "y_test = torch.tensor(y_test.values, dtype=torch.float32).reshape(-1, 1)\n",
    "\n",
    "# Normalize the input features\n",
    "scaler = StandardScaler()\n",
    "X_train_normalized = scaler.fit_transform(X_train.numpy())\n",
    "X_train = torch.tensor(X_train_normalized, dtype=torch.float32)\n",
    "X_test_normalized = scaler.fit_transform(X_test.numpy())\n",
    "X_test = torch.tensor(X_test_normalized, dtype=torch.float32)"
   ]
  },
  {
   "cell_type": "code",
   "execution_count": 137,
   "metadata": {},
   "outputs": [],
   "source": [
    "# Define the neural network model\n",
    "class NeuralNetwork(nn.Module):\n",
    "    def __init__(self, input_size):\n",
    "        super(NeuralNetwork, self).__init__()\n",
    "        self.fc1 = nn.Linear(input_size, 64)  # Input layer to hidden layer\n",
    "        self.fc2 = nn.Linear(64, 32)          # Hidden layer to hidden layer\n",
    "        self.fc3 = nn.Linear(32, 1)           # Hidden layer to output layer\n",
    "        self.relu = nn.LeakyReLU(0.01)            # LeakyReLU activation function. Introduce non-linearity in order to learn a more complex relationship. Used Leaky to acount for negatives.\n",
    "        self.sigmoid = nn.Sigmoid()           # Sigmoid activation function, required for binary classification\n",
    "        \n",
    "    def forward(self, x):\n",
    "        x = self.fc1(x)\n",
    "        x = self.relu(x)\n",
    "        x = self.fc2(x)\n",
    "        x = self.relu(x)\n",
    "        x = self.fc3(x)\n",
    "        x = self.sigmoid(x)\n",
    "        return x"
   ]
  },
  {
   "cell_type": "code",
   "execution_count": 138,
   "metadata": {},
   "outputs": [
    {
     "name": "stdout",
     "output_type": "stream",
     "text": [
      "NeuralNetwork(\n",
      "  (fc1): Linear(in_features=14, out_features=64, bias=True)\n",
      "  (fc2): Linear(in_features=64, out_features=32, bias=True)\n",
      "  (fc3): Linear(in_features=32, out_features=1, bias=True)\n",
      "  (relu): LeakyReLU(negative_slope=0.01)\n",
      "  (sigmoid): Sigmoid()\n",
      ")\n"
     ]
    }
   ],
   "source": [
    "# Initialize the model\n",
    "input_size = X_train.shape[1]\n",
    "model = NeuralNetwork(input_size)\n",
    "\n",
    "# Hyper-parameters\n",
    "weight_decay = 0.001 # For L2 regularization\n",
    "num_epochs = 100 # Number of iterations\n",
    "lr = 0.01 # Learning rate\n",
    "batch_size = 32 # batch size for mini-batch gradient descent \n",
    "alpha = 1.1  # Bold driver parameter for increasing LR\n",
    "beta = 0.5   # Bold driver parameter for decreasing LR\n",
    "\n",
    "\n",
    "# Define loss function and optimizer\n",
    "criterion = nn.BCELoss()  # Binary Cross-Entropy Loss\n",
    "optimizer = optim.Adam(model.parameters(), lr=lr, weight_decay=weight_decay)  # Adam optimizer\n",
    "\n",
    "# Initialize the previous loss for comparison\n",
    "prev_loss = float('inf')\n",
    "\n",
    "# Initialize the initial learning rate\n",
    "initial_lr = optimizer.param_groups[0]['lr']\n",
    "\n",
    "# Create DataLoader for batched data\n",
    "train_dataset = torch.utils.data.TensorDataset(X_train, y_train)\n",
    "train_loader = torch.utils.data.DataLoader(train_dataset, batch_size=batch_size, shuffle=True)\n",
    "\n",
    "# Initialize loss list for visualization\n",
    "losses = []\n",
    "\n",
    "print(model)"
   ]
  },
  {
   "cell_type": "code",
   "execution_count": 139,
   "metadata": {},
   "outputs": [
    {
     "name": "stdout",
     "output_type": "stream",
     "text": [
      "Epoch [10/100], Loss: 0.4041\n",
      "Epoch [20/100], Loss: 0.4039\n",
      "Epoch [30/100], Loss: 0.4039\n",
      "Epoch [40/100], Loss: 0.4039\n",
      "Epoch [50/100], Loss: 0.4039\n",
      "Epoch [60/100], Loss: 0.4039\n",
      "Epoch [70/100], Loss: 0.4039\n",
      "Epoch [80/100], Loss: 0.4039\n",
      "Epoch [90/100], Loss: 0.4039\n",
      "Epoch [100/100], Loss: 0.4039\n"
     ]
    }
   ],
   "source": [
    "# Training loop\n",
    "for epoch in range(num_epochs):\n",
    "    running_loss = 0.0\n",
    "    \n",
    "    # Iterate over batches\n",
    "    for inputs, labels in train_loader:\n",
    "        # Forward pass\n",
    "        outputs = model(inputs)\n",
    "        loss = criterion(outputs, labels)\n",
    "\n",
    "        # Add L2 regularization to the loss\n",
    "        l2_reg = 0\n",
    "        for param in model.parameters():\n",
    "            l2_reg += torch.norm(param)**2\n",
    "        loss += weight_decay * l2_reg \n",
    "\n",
    "        # Backward pass and optimization\n",
    "        optimizer.zero_grad()\n",
    "        loss.backward()\n",
    "        optimizer.step()\n",
    "        \n",
    "        running_loss += loss.item() * inputs.size(0)\n",
    "    \n",
    "    # Calculate average loss per epoch\n",
    "    epoch_loss = running_loss / len(train_loader.dataset)\n",
    "    losses.append(epoch_loss)\n",
    "    # Print training loss every 10 epochs\n",
    "    if (epoch+1) % 10 == 0:\n",
    "        print(f'Epoch [{epoch+1}/{num_epochs}], Loss: {epoch_loss:.4f}')\n",
    "\n",
    "    # Update learning rate based on loss change\n",
    "    if epoch_loss > prev_loss:\n",
    "        # Increase learning rate\n",
    "        optimizer.param_groups[0]['lr'] *= alpha\n",
    "    else:\n",
    "        # Decrease learning rate\n",
    "        optimizer.param_groups[0]['lr'] *= beta\n",
    "\n",
    "     # Update previous loss for the next epoch\n",
    "    prev_loss = epoch_loss\n"
   ]
  },
  {
   "cell_type": "code",
   "execution_count": 140,
   "metadata": {},
   "outputs": [
    {
     "data": {
      "image/png": "[encoded data removed]",
      "text/plain": [
       "<Figure size 640x480 with 1 Axes>"
      ]
     },
     "metadata": {},
     "output_type": "display_data"
    }
   ],
   "source": [
    "# Plot epoch vs loss\n",
    "plt.plot(range(1, num_epochs+1), losses, label='Training Loss vs Epoch')\n",
    "plt.xlabel('Epoch')\n",
    "plt.ylabel('Loss')\n",
    "plt.title('Training Loss vs Epoch')\n",
    "plt.legend()\n",
    "plt.grid(True)"
   ]
  },
  {
   "cell_type": "code",
   "execution_count": 141,
   "metadata": {},
   "outputs": [
    {
     "name": "stdout",
     "output_type": "stream",
     "text": [
      "Test Accuracy: 81.50%\n",
      "True Positives: 339\n",
      "False Positives: 87\n",
      "True Negatives: 313\n",
      "False Negatives: 61\n",
      "Precision: 0.7958\n",
      "Specificty: 0.7825\n",
      "Recall: 0.8475\n",
      "F1 Score: 0.8208\n"
     ]
    }
   ],
   "source": [
    "# Evaluation on test set\n",
    "with torch.no_grad():\n",
    "    model.eval()\n",
    "    val_outputs = model(X_test)\n",
    "    val_outputs_cls = (val_outputs >= 0.5).float()\n",
    "    val_accuracy = (val_outputs_cls == y_test).float().mean()\n",
    "    print(f'Test Accuracy: {val_accuracy.item()*100:.2f}%')\n",
    "    # Convert predicted outputs to binary predictions (0 or 1)\n",
    "    val_predictions = (val_outputs >= 0.5).float()\n",
    "\n",
    "    # True positives, false positives, true negatives, false negatives\n",
    "    TP = ((val_predictions == 1) & (y_test == 1)).sum().item()\n",
    "    FP = ((val_predictions == 1) & (y_test == 0)).sum().item()\n",
    "    TN = ((val_predictions == 0) & (y_test == 0)).sum().item()\n",
    "    FN = ((val_predictions == 0) & (y_test == 1)).sum().item()\n",
    "\n",
    "    # Calculate precision, recall, and F1 score\n",
    "    precision = TP / (TP + FP + 1e-10)  # Add small epsilon to avoid division by zero\n",
    "    recall = TP / (TP + FN + 1e-10)\n",
    "    f1_score = 2 * (precision * recall) / (precision + recall + 1e-10)  # Add small epsilon to avoid division by zero\n",
    "    specificity = TN / (TN + FP)\n",
    "\n",
    "    # Print the evaluation metrics\n",
    "    print(f'True Positives: {TP}')\n",
    "    print(f'False Positives: {FP}')\n",
    "    print(f'True Negatives: {TN}')\n",
    "    print(f'False Negatives: {FN}')\n",
    "    print(f'Precision: {precision:.4f}')\n",
    "    print(f'Specificty: {specificity:.4f}')\n",
    "    print(f'Recall: {recall:.4f}')\n",
    "    print(f'F1 Score: {f1_score:.4f}')"
   ]
  },
  {
   "cell_type": "markdown",
   "metadata": {},
   "source": [
    "# Interpretation\n",
    "\n",
    "It seems that my neural network did pretty well! I implemented a wide variety of techniques learned in this class in the gradient descent algorithm for the backpropogation process, such as the bold driver, L2 regularization, stochastic GD(Adam), as well as minibatch gradient descent. I found that adding these techniques led to a higher accuracy score as well as a very fast convergence.\n",
    "\n",
    "I predicted 81.5% of my samples correctly, with no clear bias towards positive or negative predictions. I predicted 79.6% of actual positive predictions correctly, 78.3% of actual negative predictions correctly, and 84.75% of overall positives correctly. These are pretty satisfactory results given the conditions.\n",
    "\n",
    "\n",
    " Something that could be helpful in the future to improve my results is to implement cross validation as well to fine-tune my hyperparameters, as well as using a larger dataset. A very large-scale version of this project could include loops across cross-validations where I perform a linear regression connecting my hyperparameters to my accuracy score! However, this is extremely extremely expensive and time consuming, so I'm happy with just having an operational neural network for now. "
   ]
  },
  {
   "cell_type": "code",
   "execution_count": 142,
   "metadata": {},
   "outputs": [
    {
     "name": "stdout",
     "output_type": "stream",
     "text": [
      "Accuracy score: 0.74875\n",
      "              precision    recall  f1-score   support\n",
      "\n",
      "         0.0       0.74      0.76      0.75       400\n",
      "         1.0       0.76      0.73      0.75       400\n",
      "\n",
      "    accuracy                           0.75       800\n",
      "   macro avg       0.75      0.75      0.75       800\n",
      "weighted avg       0.75      0.75      0.75       800\n",
      "\n"
     ]
    },
    {
     "name": "stderr",
     "output_type": "stream",
     "text": [
      "/Users/kevinhan/opt/anaconda3/envs/pytorch_env/lib/python3.11/site-packages/sklearn/utils/validation.py:1143: DataConversionWarning: A column-vector y was passed when a 1d array was expected. Please change the shape of y to (n_samples, ), for example using ravel().\n",
      "  y = column_or_1d(y, warn=True)\n"
     ]
    }
   ],
   "source": [
    "from sklearn.linear_model import LogisticRegression\n",
    "from sklearn.metrics import accuracy_score\n",
    "from sklearn.metrics import classification_report\n",
    "\n",
    "LRmodel = LogisticRegression( fit_intercept=True)\n",
    "LRmodel.fit(X_train, y_train)\n",
    "LRpred = LRmodel.predict(X_test)\n",
    "print('Accuracy score: ' + str(accuracy_score(y_test, LRpred)))\n",
    "print(classification_report(y_test, LRpred))"
   ]
  },
  {
   "cell_type": "markdown",
   "metadata": {},
   "source": [
    "It should be noted that logistic regression works like a neural network, just as a very rudimentary one with one layer that is the sigmoid activation function. We can see that adding the extra layers as we did to form a bigger neural network improved prediction metrics all across the board when compared to just using Logistic Regression."
   ]
  },
  {
   "cell_type": "code",
   "execution_count": 144,
   "metadata": {},
   "outputs": [
    {
     "name": "stderr",
     "output_type": "stream",
     "text": [
      "/Users/kevinhan/opt/anaconda3/envs/pytorch_env/lib/python3.11/site-packages/sklearn/utils/validation.py:1143: DataConversionWarning: A column-vector y was passed when a 1d array was expected. Please change the shape of y to (n_samples, ), for example using ravel().\n",
      "  y = column_or_1d(y, warn=True)\n"
     ]
    },
    {
     "name": "stdout",
     "output_type": "stream",
     "text": [
      "Accuracy Score: 0.80875\n",
      "              precision    recall  f1-score   support\n",
      "\n",
      "         0.0       0.85      0.75      0.80       400\n",
      "         1.0       0.78      0.87      0.82       400\n",
      "\n",
      "    accuracy                           0.81       800\n",
      "   macro avg       0.81      0.81      0.81       800\n",
      "weighted avg       0.81      0.81      0.81       800\n",
      "\n"
     ]
    }
   ],
   "source": [
    "from sklearn import svm\n",
    "SVMmodel = svm.SVC()\n",
    "SVMmodel.fit(X_train, y_train)\n",
    "\n",
    "\n",
    "SVMpred = SVMmodel.predict(X_test)\n",
    "\n",
    "print(\"Accuracy Score:\", accuracy_score(y_test, SVMpred))\n",
    "print(classification_report(y_test, SVMpred))"
   ]
  },
  {
   "cell_type": "markdown",
   "metadata": {},
   "source": [
    "SVM comes close, but still a bit worse."
   ]
  },
  {
   "cell_type": "code",
   "execution_count": 157,
   "metadata": {},
   "outputs": [
    {
     "name": "stdout",
     "output_type": "stream",
     "text": [
      "Accuracy: 0.78\n"
     ]
    },
    {
     "name": "stderr",
     "output_type": "stream",
     "text": [
      "/Users/kevinhan/opt/anaconda3/envs/pytorch_env/lib/python3.11/site-packages/sklearn/neighbors/_classification.py:215: DataConversionWarning: A column-vector y was passed when a 1d array was expected. Please change the shape of y to (n_samples,), for example using ravel().\n",
      "  return self._fit(X, y)\n"
     ]
    }
   ],
   "source": [
    "from sklearn.neighbors import KNeighborsClassifier\n",
    "knn = KNeighborsClassifier(n_neighbors=22)\n",
    "knn.fit(X_train, y_train)\n",
    "\n",
    "KNNpred = knn.predict(X_test)\n",
    "\n",
    "# Calculate accuracy\n",
    "accuracy = accuracy_score(y_test, KNNpred)\n",
    "print(\"Accuracy:\", accuracy)"
   ]
  },
  {
   "cell_type": "markdown",
   "metadata": {},
   "source": [
    "KNN did not perform as well, but slightly better than logistic regression."
   ]
  },
  {
   "cell_type": "code",
   "execution_count": 158,
   "metadata": {},
   "outputs": [
    {
     "name": "stdout",
     "output_type": "stream",
     "text": [
      "Accuracy: 0.75125\n"
     ]
    }
   ],
   "source": [
    "from sklearn.tree import DecisionTreeClassifier\n",
    "from sklearn.metrics import accuracy_score\n",
    "tree_clf = DecisionTreeClassifier()\n",
    "tree_clf.fit(X_train, y_train)\n",
    "TREEpred = tree_clf.predict(X_test)\n",
    "\n",
    "# Calculate accuracy\n",
    "accuracy_tree = accuracy_score(y_test, TREEpred)\n",
    "print(\"Accuracy:\", accuracy_tree)"
   ]
  },
  {
   "cell_type": "markdown",
   "metadata": {},
   "source": [
    "Decision trees did not perform as well. Pretty much the same as logistic regression."
   ]
  },
  {
   "cell_type": "code",
   "execution_count": 159,
   "metadata": {},
   "outputs": [
    {
     "name": "stderr",
     "output_type": "stream",
     "text": [
      "/Users/kevinhan/opt/anaconda3/envs/pytorch_env/lib/python3.11/site-packages/sklearn/utils/validation.py:1143: DataConversionWarning: A column-vector y was passed when a 1d array was expected. Please change the shape of y to (n_samples, ), for example using ravel().\n",
      "  y = column_or_1d(y, warn=True)\n"
     ]
    },
    {
     "name": "stdout",
     "output_type": "stream",
     "text": [
      "AdaBoost Classifier Accuracy: 0.81\n"
     ]
    }
   ],
   "source": [
    "from sklearn.ensemble import AdaBoostClassifier\n",
    "from sklearn.metrics import accuracy_score\n",
    "\n",
    "# Initialize the AdaBoost Classifier\n",
    "adaboost_clf = AdaBoostClassifier()\n",
    "\n",
    "# Fit the classifier to the training data\n",
    "adaboost_clf.fit(X_train, y_train)\n",
    "\n",
    "# Predict on the test data\n",
    "Y_pred_adaboost = adaboost_clf.predict(X_test)\n",
    "\n",
    "# Calculate accuracy\n",
    "accuracy_adaboost = accuracy_score(y_test, Y_pred_adaboost)\n",
    "print(\"AdaBoost Classifier Accuracy:\", accuracy_adaboost)"
   ]
  },
  {
   "cell_type": "markdown",
   "metadata": {},
   "source": [
    "Wow! Very close! Even with an ensemble method like AdaBoost, it still is slightly below the accuracy I reached with my neural network. Furthermore, I would argue that there is no increase in interpretability in AdaBoost when compared to neural networks. Thus, even with the avengers of classic classifiers, it still couldn't surpass my neural network. "
   ]
  },
  {
   "cell_type": "markdown",
   "metadata": {},
   "source": []
  }
 ],
 "metadata": {
  "kernelspec": {
   "display_name": "pytorch_env",
   "language": "python",
   "name": "python3"
  },
  "language_info": {
   "codemirror_mode": {
    "name": "ipython",
    "version": 3
   },
   "file_extension": ".py",
   "mimetype": "text/x-python",
   "name": "python",
   "nbconvert_exporter": "python",
   "pygments_lexer": "ipython3",
   "version": "3.11.7"
  }
 },
 "nbformat": 4,
 "nbformat_minor": 2
}
